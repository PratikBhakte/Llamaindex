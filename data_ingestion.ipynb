{
 "cells": [
  {
   "cell_type": "code",
   "execution_count": 2,
   "metadata": {},
   "outputs": [],
   "source": [
    "import os\n",
    "import sys"
   ]
  },
  {
   "cell_type": "code",
   "execution_count": 15,
   "metadata": {},
   "outputs": [],
   "source": [
    "from llama_index.core import SimpleDirectoryReader\n",
    "from llama_index.readers.file import MarkdownReader\n",
    "\n",
    "def load_markdown_docs(filepath):\n",
    "    parser = MarkdownReader()\n",
    "    file_extractor = {\".md\": parser}\n",
    "    loader = SimpleDirectoryReader(\n",
    "    input_dir=filepath, file_extractor=file_extractor,\n",
    "    recursive=True\n",
    "    ).load_data()\n",
    "\n",
    "    return loader"
   ]
  },
  {
   "cell_type": "code",
   "execution_count": 17,
   "metadata": {},
   "outputs": [],
   "source": [
    "# load our documents from each folder.\n",
    "# we keep them seperate for now, in order to create seperate indexes later\n",
    "getting_started_docs = load_markdown_docs(\"./data/getting_started\")\n",
    "community_docs = load_markdown_docs(\"./data/community\")\n",
    "data_docs = load_markdown_docs(\"./data/core_modules/data_modules\")\n",
    "agent_docs = load_markdown_docs(\"./data/core_modules/agent_modules\")\n",
    "model_docs = load_markdown_docs(\"./data/core_modules/model_modules\")\n",
    "query_docs = load_markdown_docs(\"./data/core_modules/query_modules\")\n",
    "supporting_docs = load_markdown_docs(\"./data/core_modules/supporting_modules\")\n",
    "tutorials_docs = load_markdown_docs(\"./data/end_to_end_tutorials\")\n",
    "contributing_docs = load_markdown_docs(\"./data/development\")"
   ]
  },
  {
   "cell_type": "code",
   "execution_count": 19,
   "metadata": {},
   "outputs": [],
   "source": [
    "# Make our printing look nice\n",
    "from llama_index.core.schema import MetadataMode"
   ]
  },
  {
   "cell_type": "code",
   "execution_count": 20,
   "metadata": {},
   "outputs": [
    {
     "name": "stdout",
     "output_type": "stream",
     "text": [
      "file_path: a:\\Python Programs\\Llama_index\\Llamaindex\\data\\core_modules\\agent_modules\\agents\\modules.md\n",
      "file_name: modules.md\n",
      "file_size: 619\n",
      "creation_date: 2024-06-19\n",
      "last_modified_date: 2023-09-12\n",
      "\n",
      "\n",
      "\n",
      "Module Guides\n",
      "\n",
      "These guide provide an overview of how to use our agent classes.\n",
      "\n",
      "For more detailed guides on how to use specific tools, check out our tools module guides.\n"
     ]
    }
   ],
   "source": [
    "print(agent_docs[0].get_content(metadata_mode=MetadataMode.ALL))"
   ]
  },
  {
   "cell_type": "code",
   "execution_count": 21,
   "metadata": {},
   "outputs": [
    {
     "name": "stdout",
     "output_type": "stream",
     "text": [
      "{'file_path': 'a:\\\\Python Programs\\\\Llama_index\\\\Llamaindex\\\\data\\\\core_modules\\\\agent_modules\\\\agents\\\\modules.md', 'file_name': 'modules.md', 'file_size': 619, 'creation_date': '2024-06-19', 'last_modified_date': '2023-09-12'}\n"
     ]
    }
   ],
   "source": [
    "print(agent_docs[0].metadata)"
   ]
  },
  {
   "cell_type": "code",
   "execution_count": 22,
   "metadata": {},
   "outputs": [],
   "source": [
    "text_template = \"Content Metadata: \\n{metadata_str}\\n\\nContent: \\n{content}\"\n",
    "metadata_template = \"{key}: {value},\"\n",
    "metadata_seperator = \" \"\n",
    "\n",
    "for doc in agent_docs:\n",
    "    doc.text_template = text_template\n",
    "    doc.metadata_template = metadata_template\n",
    "    doc.metadata_seperator = metadata_seperator"
   ]
  },
  {
   "cell_type": "code",
   "execution_count": 23,
   "metadata": {},
   "outputs": [
    {
     "name": "stdout",
     "output_type": "stream",
     "text": [
      "Content Metadata: \n",
      "file_path: a:\\Python Programs\\Llama_index\\Llamaindex\\data\\core_modules\\agent_modules\\agents\\modules.md, file_name: modules.md, file_size: 619, creation_date: 2024-06-19, last_modified_date: 2023-09-12,\n",
      "\n",
      "Content: \n",
      "\n",
      "\n",
      "Module Guides\n",
      "\n",
      "These guide provide an overview of how to use our agent classes.\n",
      "\n",
      "For more detailed guides on how to use specific tools, check out our tools module guides.\n"
     ]
    }
   ],
   "source": [
    "print(agent_docs[0].get_content(metadata_mode=MetadataMode.ALL))"
   ]
  },
  {
   "cell_type": "markdown",
   "metadata": {},
   "source": [
    "### Advanced Customization\n",
    "Going even further with metadata, we can also customize which metadata fields will be seen byb both the embedding model and LLM"
   ]
  },
  {
   "cell_type": "code",
   "execution_count": 26,
   "metadata": {},
   "outputs": [
    {
     "name": "stdout",
     "output_type": "stream",
     "text": [
      "Content Metadata: \n",
      "file_path: a:\\Python Programs\\Llama_index\\Llamaindex\\data\\core_modules\\agent_modules\\agents\\modules.md, file_size: 619, creation_date: 2024-06-19, last_modified_date: 2023-09-12,\n",
      "\n",
      "Content: \n",
      "\n",
      "\n",
      "Module Guides\n",
      "\n",
      "These guide provide an overview of how to use our agent classes.\n",
      "\n",
      "For more detailed guides on how to use specific tools, check out our tools module guides.\n"
     ]
    }
   ],
   "source": [
    "# Hide the File Name from the LLM\n",
    "agent_docs[0].excluded_llm_metadata_keys = [\"file_name\"]\n",
    "print(agent_docs[0].get_content(metadata_mode=MetadataMode.LLM))"
   ]
  },
  {
   "cell_type": "code",
   "execution_count": 27,
   "metadata": {},
   "outputs": [
    {
     "name": "stdout",
     "output_type": "stream",
     "text": [
      "Content Metadata: \n",
      "file_path: a:\\Python Programs\\Llama_index\\Llamaindex\\data\\core_modules\\agent_modules\\agents\\modules.md, file_size: 619, creation_date: 2024-06-19, last_modified_date: 2023-09-12,\n",
      "\n",
      "Content: \n",
      "\n",
      "\n",
      "Module Guides\n",
      "\n",
      "These guide provide an overview of how to use our agent classes.\n",
      "\n",
      "For more detailed guides on how to use specific tools, check out our tools module guides.\n"
     ]
    }
   ],
   "source": [
    "# # Hide the File Name from the embedding model\n",
    "agent_docs[0].excluded_embed_metadata_keys = [\"file_name\"]\n",
    "print(agent_docs[0].get_content(metadata_mode=MetadataMode.EMBED))"
   ]
  },
  {
   "cell_type": "markdown",
   "metadata": {},
   "source": [
    "### Conclusion\n",
    "\n",
    "In this notebook, we covered how to use a custom data loader, as well as how to customize the text representations of your data when including metadata for both LLM and embedding model"
   ]
  }
 ],
 "metadata": {
  "kernelspec": {
   "display_name": "llamaindex",
   "language": "python",
   "name": "python3"
  },
  "language_info": {
   "codemirror_mode": {
    "name": "ipython",
    "version": 3
   },
   "file_extension": ".py",
   "mimetype": "text/x-python",
   "name": "python",
   "nbconvert_exporter": "python",
   "pygments_lexer": "ipython3",
   "version": "3.11.9"
  }
 },
 "nbformat": 4,
 "nbformat_minor": 2
}
