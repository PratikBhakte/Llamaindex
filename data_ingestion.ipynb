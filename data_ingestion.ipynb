{
 "cells": [
  {
   "cell_type": "code",
   "execution_count": 2,
   "metadata": {},
   "outputs": [],
   "source": [
    "import os\n",
    "import sys"
   ]
  },
  {
   "cell_type": "code",
   "execution_count": 15,
   "metadata": {},
   "outputs": [],
   "source": [
    "from llama_index.core import SimpleDirectoryReader\n",
    "from llama_index.readers.file import MarkdownReader\n",
    "\n",
    "def load_markdown_docs(filepath):\n",
    "    parser = MarkdownReader()\n",
    "    file_extractor = {\".md\": parser}\n",
    "    loader = SimpleDirectoryReader(\n",
    "    input_dir=filepath, file_extractor=file_extractor,\n",
    "    recursive=True\n",
    "    ).load_data()\n",
    "\n",
    "    return loader"
   ]
  },
  {
   "cell_type": "code",
   "execution_count": 17,
   "metadata": {},
   "outputs": [],
   "source": [
    "# load our documents from each folder.\n",
    "# we keep them seperate for now, in order to create seperate indexes later\n",
    "getting_started_docs = load_markdown_docs(\"./data/getting_started\")\n",
    "community_docs = load_markdown_docs(\"./data/community\")\n",
    "data_docs = load_markdown_docs(\"./data/core_modules/data_modules\")\n",
    "agent_docs = load_markdown_docs(\"./data/core_modules/agent_modules\")\n",
    "model_docs = load_markdown_docs(\"./data/core_modules/model_modules\")\n",
    "query_docs = load_markdown_docs(\"./data/core_modules/query_modules\")\n",
    "supporting_docs = load_markdown_docs(\"./data/core_modules/supporting_modules\")\n",
    "tutorials_docs = load_markdown_docs(\"./data/end_to_end_tutorials\")\n",
    "contributing_docs = load_markdown_docs(\"./data/development\")"
   ]
  },
  {
   "cell_type": "code",
   "execution_count": 19,
   "metadata": {},
   "outputs": [],
   "source": [
    "# Make our printing look nice\n",
    "from llama_index.core.schema import MetadataMode"
   ]
  },
  {
   "cell_type": "code",
   "execution_count": null,
   "metadata": {},
   "outputs": [],
   "source": []
  }
 ],
 "metadata": {
  "kernelspec": {
   "display_name": "llamaindex",
   "language": "python",
   "name": "python3"
  },
  "language_info": {
   "codemirror_mode": {
    "name": "ipython",
    "version": 3
   },
   "file_extension": ".py",
   "mimetype": "text/x-python",
   "name": "python",
   "nbconvert_exporter": "python",
   "pygments_lexer": "ipython3",
   "version": "3.11.9"
  }
 },
 "nbformat": 4,
 "nbformat_minor": 2
}
